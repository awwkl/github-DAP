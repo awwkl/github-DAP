{
 "cells": [
  {
   "cell_type": "code",
   "execution_count": 1,
   "metadata": {},
   "outputs": [],
   "source": [
    "import numpy as np\n",
    "import pandas as pd\n",
    "from sklearn.preprocessing import MinMaxScaler"
   ]
  },
  {
   "cell_type": "code",
   "execution_count": 2,
   "metadata": {},
   "outputs": [
    {
     "data": {
      "text/plain": [
       "array([[0.        , 0.        , 0.00014859, ..., 0.        , 0.        ,\n",
       "        0.        ],\n",
       "       [0.00688817, 0.00031088, 0.00089153, ..., 0.        , 0.        ,\n",
       "        0.        ],\n",
       "       [0.00081037, 0.        , 0.        , ..., 0.        , 0.        ,\n",
       "        0.        ],\n",
       "       ...,\n",
       "       [0.00688817, 0.        , 0.00014859, ..., 0.        , 0.        ,\n",
       "        0.        ],\n",
       "       [0.00162075, 0.        , 0.        , ..., 0.        , 0.        ,\n",
       "        0.        ],\n",
       "       [0.00121556, 0.00145078, 0.00208024, ..., 0.        , 0.        ,\n",
       "        0.        ]])"
      ]
     },
     "execution_count": 2,
     "metadata": {},
     "output_type": "execute_result"
    }
   ],
   "source": [
    "df_train = pd.read_csv('./processed_data/df_train.csv')\n",
    "X_train = df_train.drop('label', axis=1)\n",
    "y_train = df_train['label']\n",
    "\n",
    "# fit scaler on training data\n",
    "norm = MinMaxScaler().fit(X_train)\n",
    "# transform training data\n",
    "X_train_norm = norm.transform(X_train)\n",
    "X_train_norm"
   ]
  },
  {
   "cell_type": "code",
   "execution_count": 3,
   "metadata": {},
   "outputs": [
    {
     "data": {
      "text/plain": [
       "array([[0.00081037, 0.00010363, 0.00014859, ..., 0.        , 0.        ,\n",
       "        0.        ],\n",
       "       [0.00648298, 0.00124352, 0.00237741, ..., 0.        , 0.        ,\n",
       "        0.        ],\n",
       "       [0.00162075, 0.        , 0.        , ..., 0.        , 0.        ,\n",
       "        0.        ],\n",
       "       ...,\n",
       "       [0.00121556, 0.00010363, 0.00014859, ..., 0.        , 0.        ,\n",
       "        0.        ],\n",
       "       [0.00202593, 0.00031088, 0.00074294, ..., 0.        , 0.        ,\n",
       "        0.        ],\n",
       "       [0.00121556, 0.00010363, 0.00222883, ..., 0.        , 0.        ,\n",
       "        0.        ]])"
      ]
     },
     "execution_count": 3,
     "metadata": {},
     "output_type": "execute_result"
    }
   ],
   "source": [
    "df_valid = pd.read_csv('./processed_data/df_valid.csv')\n",
    "X_valid = df_valid.drop('label', axis=1)\n",
    "y_valid = df_valid['label']\n",
    "\n",
    "# transform validation data\n",
    "X_valid_norm = norm.transform(X_valid)\n",
    "X_valid_norm"
   ]
  },
  {
   "cell_type": "code",
   "execution_count": 4,
   "metadata": {},
   "outputs": [],
   "source": [
    "from sklearn.ensemble import RandomForestClassifier\n",
    "from sklearn.tree import DecisionTreeClassifier\n",
    "from sklearn.neighbors import KNeighborsClassifier\n",
    "\n",
    "from sklearn.ensemble import VotingClassifier\n",
    "\n",
    "rnd_clf = RandomForestClassifier(n_estimators=500, max_leaf_nodes=16, n_jobs=-1)\n",
    "dt_clf = DecisionTreeClassifier(criterion='entropy', max_depth=8)\n",
    "kn_clf = KNeighborsClassifier(n_neighbors=15)\n",
    "\n",
    "voting_clf = VotingClassifier(\n",
    "    estimators=[('rf', rnd_clf), ('dt', dt_clf), ('kn', kn_clf)],\n",
    "    voting='hard')"
   ]
  },
  {
   "cell_type": "code",
   "execution_count": 5,
   "metadata": {},
   "outputs": [
    {
     "name": "stdout",
     "output_type": "stream",
     "text": [
      "RandomForestClassifier 0.9735714285714285\n",
      "DecisionTreeClassifier 0.9725\n",
      "KNeighborsClassifier 0.9596428571428571\n",
      "VotingClassifier 0.9832142857142857\n"
     ]
    }
   ],
   "source": [
    "# validating\n",
    "from sklearn.metrics import accuracy_score\n",
    "for clf in (rnd_clf, dt_clf, kn_clf, voting_clf):\n",
    "    clf.fit(X_train_norm, y_train)\n",
    "    y_pred = clf.predict(X_valid_norm)\n",
    "    print(clf.__class__.__name__, accuracy_score(y_valid, y_pred))"
   ]
  },
  {
   "cell_type": "code",
   "execution_count": 6,
   "metadata": {},
   "outputs": [
    {
     "data": {
      "text/plain": [
       "array([[0.0028363 , 0.00020725, 0.00014859, ..., 0.        , 0.        ,\n",
       "        0.        ],\n",
       "       [0.01701783, 0.00093264, 0.00282318, ..., 0.        , 0.        ,\n",
       "        0.        ],\n",
       "       [0.00121556, 0.00134715, 0.00193165, ..., 0.        , 0.        ,\n",
       "        0.        ],\n",
       "       ...,\n",
       "       [0.00081037, 0.        , 0.        , ..., 0.        , 0.        ,\n",
       "        0.        ],\n",
       "       [0.00972447, 0.00435233, 0.00445765, ..., 0.        , 0.        ,\n",
       "        0.        ],\n",
       "       [0.00324149, 0.        , 0.        , ..., 0.        , 0.        ,\n",
       "        0.        ]])"
      ]
     },
     "execution_count": 6,
     "metadata": {},
     "output_type": "execute_result"
    }
   ],
   "source": [
    "df_test = pd.read_csv('./processed_data/df_test.csv')\n",
    "X_test = df_test.drop('label', axis=1)\n",
    "y_test = df_test['label']\n",
    "\n",
    "# transform testing data\n",
    "X_test_norm = norm.transform(X_test)\n",
    "X_test_norm"
   ]
  },
  {
   "cell_type": "code",
   "execution_count": 7,
   "metadata": {},
   "outputs": [
    {
     "name": "stdout",
     "output_type": "stream",
     "text": [
      "RandomForestClassifier 0.97\n",
      "DecisionTreeClassifier 0.9710714285714286\n",
      "KNeighborsClassifier 0.9635714285714285\n",
      "VotingClassifier 0.9825\n"
     ]
    }
   ],
   "source": [
    "# testing\n",
    "for clf in (rnd_clf, dt_clf, kn_clf, voting_clf):\n",
    "    clf.fit(X_train_norm, y_train)\n",
    "    y_pred = clf.predict(X_test_norm)\n",
    "    print(clf.__class__.__name__, accuracy_score(y_test, y_pred))"
   ]
  },
  {
   "cell_type": "code",
   "execution_count": 8,
   "metadata": {},
   "outputs": [
    {
     "name": "stdout",
     "output_type": "stream",
     "text": [
      "[[390  10   0   1   0   1   0]\n",
      " [ 12 378   0   0   0   0   0]\n",
      " [  0   0 399   0   0   4   0]\n",
      " [  0   0   0 427   0   0   0]\n",
      " [  0   1   3   0 383   2   0]\n",
      " [  0   1   6   0   1 395   0]\n",
      " [  0   2   0   1   0   4 379]]\n"
     ]
    }
   ],
   "source": [
    "# visualisation of results\n",
    "from sklearn.metrics import confusion_matrix\n",
    "y_pred = voting_clf.predict(X_test_norm)\n",
    "confusion_matrix = confusion_matrix(y_test, y_pred)\n",
    "print(confusion_matrix)"
   ]
  },
  {
   "cell_type": "code",
   "execution_count": 9,
   "metadata": {},
   "outputs": [
    {
     "data": {
      "image/png": "[encoded data removed]",
      "text/plain": [
       "<Figure size 288x288 with 1 Axes>"
      ]
     },
     "metadata": {
      "needs_background": "light"
     },
     "output_type": "display_data"
    }
   ],
   "source": [
    "import matplotlib.pyplot as plt\n",
    "plt.matshow(confusion_matrix, cmap=plt.cm.gray)\n",
    "plt.show()"
   ]
  },
  {
   "cell_type": "code",
   "execution_count": 10,
   "metadata": {},
   "outputs": [
    {
     "data": {
      "image/png": "[encoded data removed]",
      "text/plain": [
       "<Figure size 288x288 with 1 Axes>"
      ]
     },
     "metadata": {
      "needs_background": "light"
     },
     "output_type": "display_data"
    }
   ],
   "source": [
    "row_sums = confusion_matrix.sum(axis=1, keepdims=True)\n",
    "norm_conf_mx = confusion_matrix / row_sums\n",
    "np.fill_diagonal(norm_conf_mx, 0)\n",
    "plt.matshow(norm_conf_mx, cmap=plt.cm.gray)\n",
    "\n",
    "# rows represent actual classes\n",
    "# columns represent predicted classes\n",
    "plt.show()"
   ]
  }
 ],
 "metadata": {
  "kernelspec": {
   "display_name": "Python 3",
   "language": "python",
   "name": "python3"
  },
  "language_info": {
   "codemirror_mode": {
    "name": "ipython",
    "version": 3
   },
   "file_extension": ".py",
   "mimetype": "text/x-python",
   "name": "python",
   "nbconvert_exporter": "python",
   "pygments_lexer": "ipython3",
   "version": "3.8.3"
  }
 },
 "nbformat": 4,
 "nbformat_minor": 4
}
