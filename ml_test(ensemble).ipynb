{
 "cells": [
  {
   "cell_type": "code",
   "execution_count": 1,
   "metadata": {},
   "outputs": [],
   "source": [
    "import numpy as np\n",
    "import pandas as pd\n",
    "from sklearn.preprocessing import MinMaxScaler"
   ]
  },
  {
   "cell_type": "code",
   "execution_count": 2,
   "metadata": {},
   "outputs": [
    {
     "name": "stdout",
     "output_type": "stream",
     "text": [
      "[[0.00000000e+00 2.05947772e-05 0.00000000e+00 ... 8.59808263e-05\n",
      "  0.00000000e+00 5.25182501e-05]\n",
      " [8.73616773e-04 1.11211797e-03 6.79627646e-04 ... 6.19061949e-03\n",
      "  6.73551863e-04 4.72664251e-04]\n",
      " [9.38329127e-04 1.02973886e-04 1.02973886e-04 ... 2.57942479e-04\n",
      "  0.00000000e+00 0.00000000e+00]\n",
      " ...\n",
      " [2.58849414e-04 0.00000000e+00 0.00000000e+00 ... 0.00000000e+00\n",
      "  6.73551863e-04 7.87773751e-04]\n",
      " [2.26493238e-04 9.26764972e-04 1.09152319e-03 ... 3.26727140e-03\n",
      "  6.73551863e-04 4.72664251e-04]\n",
      " [0.00000000e+00 2.05947772e-05 2.05947772e-05 ... 4.29904131e-05\n",
      "  0.00000000e+00 8.40292001e-04]]\n"
     ]
    },
    {
     "data": {
      "text/plain": [
       "((8399, 140), (8399,))"
      ]
     },
     "execution_count": 2,
     "metadata": {},
     "output_type": "execute_result"
    }
   ],
   "source": [
    "df_train = pd.read_csv('./processed_data/df_train.csv')\n",
    "X_train = df_train.drop('label', axis=1)\n",
    "y_train = df_train['label']\n",
    "\n",
    "# fit scaler on training data\n",
    "norm = MinMaxScaler().fit(X_train)\n",
    "\n",
    "# transform training data\n",
    "X_train_norm = norm.transform(X_train)\n",
    "print(X_train_norm)\n",
    "X_train_norm.shape, y_train.shape"
   ]
  },
  {
   "cell_type": "code",
   "execution_count": 3,
   "metadata": {},
   "outputs": [
    {
     "name": "stdout",
     "output_type": "stream",
     "text": [
      "[[4.85342652e-05 0.00000000e+00 0.00000000e+00 ... 0.00000000e+00\n",
      "  2.24517288e-04 7.35255501e-04]\n",
      " [3.23561768e-04 4.11895543e-05 2.05947772e-05 ... 3.43923305e-04\n",
      "  0.00000000e+00 1.52302925e-03]\n",
      " [0.00000000e+00 0.00000000e+00 0.00000000e+00 ... 0.00000000e+00\n",
      "  0.00000000e+00 0.00000000e+00]\n",
      " ...\n",
      " [2.26493238e-04 0.00000000e+00 0.00000000e+00 ... 1.28971239e-04\n",
      "  0.00000000e+00 2.62591250e-04]\n",
      " [0.00000000e+00 2.26542549e-04 1.02973886e-04 ... 9.02798676e-04\n",
      "  2.24517288e-04 6.30219001e-04]\n",
      " [0.00000000e+00 0.00000000e+00 2.05947772e-05 ... 0.00000000e+00\n",
      "  0.00000000e+00 8.92810252e-04]]\n"
     ]
    },
    {
     "data": {
      "text/plain": [
       "((2800, 140), (2800,))"
      ]
     },
     "execution_count": 3,
     "metadata": {},
     "output_type": "execute_result"
    }
   ],
   "source": [
    "df_valid = pd.read_csv('./processed_data/df_valid.csv')\n",
    "X_valid = df_valid.drop('label', axis=1)\n",
    "y_valid = df_valid['label']\n",
    "\n",
    "# transform validation data\n",
    "X_valid_norm = norm.transform(X_valid)\n",
    "\n",
    "print(X_valid_norm)\n",
    "X_valid_norm.shape, y_valid.shape"
   ]
  },
  {
   "cell_type": "code",
   "execution_count": 4,
   "metadata": {},
   "outputs": [],
   "source": [
    "from sklearn.ensemble import RandomForestClassifier\n",
    "from sklearn.svm import SVC\n",
    "from sklearn.linear_model import LogisticRegression\n",
    "from sklearn.ensemble import VotingClassifier\n",
    "\n",
    "rnd_clf = RandomForestClassifier(n_estimators=1000, max_leaf_nodes=200, n_jobs=-1)\n",
    "svm_clf = SVC(C=10000)\n",
    "log_clf = LogisticRegression(C=10000, max_iter=10000)\n",
    "\n",
    "voting_clf = VotingClassifier(\n",
    "    estimators=[('rf', rnd_clf), ('svm', svm_clf), ('log', log_clf)],\n",
    "    voting='hard')"
   ]
  },
  {
   "cell_type": "code",
   "execution_count": 5,
   "metadata": {},
   "outputs": [
    {
     "name": "stdout",
     "output_type": "stream",
     "text": [
      "RandomForestClassifier 0.9796428571428571\n",
      "SVC 0.9485714285714286\n",
      "LogisticRegression 0.9246428571428571\n",
      "VotingClassifier 0.9607142857142857\n"
     ]
    }
   ],
   "source": [
    "# validating\n",
    "from sklearn.metrics import accuracy_score\n",
    "\n",
    "for clf in (rnd_clf, svm_clf, log_clf, voting_clf):\n",
    "    clf.fit(X_train_norm, y_train)\n",
    "    y_pred = clf.predict(X_valid_norm)\n",
    "    print(clf.__class__.__name__, accuracy_score(y_valid, y_pred))"
   ]
  },
  {
   "cell_type": "code",
   "execution_count": 6,
   "metadata": {},
   "outputs": [
    {
     "name": "stdout",
     "output_type": "stream",
     "text": [
      "[[2.91205591e-04 1.23568663e-04 1.02973886e-04 ... 7.73827436e-04\n",
      "  2.24517288e-04 2.04821175e-03]\n",
      " [6.47123536e-05 6.17843315e-05 6.17843315e-05 ... 8.59808263e-05\n",
      "  0.00000000e+00 6.30219001e-04]\n",
      " [0.00000000e+00 1.44163440e-04 2.05947772e-05 ... 0.00000000e+00\n",
      "  0.00000000e+00 0.00000000e+00]\n",
      " ...\n",
      " [1.61780884e-04 2.05947772e-05 0.00000000e+00 ... 0.00000000e+00\n",
      "  6.73551863e-04 4.72664251e-04]\n",
      " [3.55917945e-04 0.00000000e+00 0.00000000e+00 ... 8.59808263e-05\n",
      "  0.00000000e+00 2.62591250e-04]\n",
      " [2.47524752e-03 0.00000000e+00 0.00000000e+00 ... 1.28971239e-04\n",
      "  7.40907050e-03 8.71802952e-03]]\n"
     ]
    },
    {
     "data": {
      "text/plain": [
       "((2800, 140), (2800,))"
      ]
     },
     "execution_count": 6,
     "metadata": {},
     "output_type": "execute_result"
    }
   ],
   "source": [
    "df_test = pd.read_csv('./processed_data/df_test.csv')\n",
    "X_test = df_test.drop('label', axis=1)\n",
    "y_test = df_test['label']\n",
    "\n",
    "# transform testing data\n",
    "X_test_norm = norm.transform(X_test)\n",
    "\n",
    "print(X_test_norm)\n",
    "X_test_norm.shape, y_test.shape"
   ]
  },
  {
   "cell_type": "code",
   "execution_count": 7,
   "metadata": {},
   "outputs": [
    {
     "name": "stdout",
     "output_type": "stream",
     "text": [
      "RandomForestClassifier 0.9764285714285714\n",
      "SVC 0.9432142857142857\n",
      "LogisticRegression 0.9282142857142858\n",
      "VotingClassifier 0.9617857142857142\n"
     ]
    }
   ],
   "source": [
    "# testing\n",
    "for clf in (rnd_clf, svm_clf, log_clf, voting_clf):\n",
    "    clf.fit(X_train_norm, y_train)\n",
    "    y_pred = clf.predict(X_test_norm)\n",
    "    print(clf.__class__.__name__, accuracy_score(y_test, y_pred))"
   ]
  },
  {
   "cell_type": "code",
   "execution_count": 8,
   "metadata": {},
   "outputs": [
    {
     "name": "stdout",
     "output_type": "stream",
     "text": [
      "[[396   1   0   0   3   0   2]\n",
      " [  5 388   1   0   1   0   1]\n",
      " [  8   0 376   1   1   0   0]\n",
      " [  4   0   1 397   5   0   0]\n",
      " [  6   0   0  30 362   0   0]\n",
      " [  6   0   1   1   0 384   1]\n",
      " [ 26   1   0   1   0   0 390]]\n"
     ]
    }
   ],
   "source": [
    "# visualisation of results\n",
    "from sklearn.metrics import confusion_matrix, ConfusionMatrixDisplay\n",
    "\n",
    "labels = ['.html', '.java', '.py', '.c', '.cpp', '.rb', '.php']\n",
    "y_pred = voting_clf.predict(X_test_norm)\n",
    "confusion_matrix = confusion_matrix(y_test, y_pred, labels=labels)\n",
    "print(confusion_matrix)"
   ]
  },
  {
   "cell_type": "code",
   "execution_count": 9,
   "metadata": {},
   "outputs": [
    {
     "data": {
      "text/plain": [
       "<sklearn.metrics._plot.confusion_matrix.ConfusionMatrixDisplay at 0x7faa03422760>"
      ]
     },
     "execution_count": 9,
     "metadata": {},
     "output_type": "execute_result"
    },
    {
     "data": {
      "image/png": "[encoded data removed]",
      "text/plain": [
       "<Figure size 432x288 with 2 Axes>"
      ]
     },
     "metadata": {
      "needs_background": "light"
     },
     "output_type": "display_data"
    }
   ],
   "source": [
    "display = ConfusionMatrixDisplay(confusion_matrix, display_labels=labels)\n",
    "display.plot()"
   ]
  },
  {
   "cell_type": "code",
   "execution_count": 10,
   "metadata": {},
   "outputs": [
    {
     "name": "stdout",
     "output_type": "stream",
     "text": [
      "Counter({'.html': 451, '.c': 430, '.php': 394, '.java': 390, '.rb': 384, '.py': 379, '.cpp': 372})\n",
      "Counter({'.php': 418, '.c': 407, '.html': 402, '.cpp': 398, '.java': 396, '.rb': 393, '.py': 386})\n"
     ]
    }
   ],
   "source": [
    "# to check count\n",
    "from collections import Counter\n",
    "\n",
    "print(Counter(y_pred))\n",
    "print(Counter(y_test))"
   ]
  }
 ],
 "metadata": {
  "kernelspec": {
   "display_name": "Python 3",
   "language": "python",
   "name": "python3"
  },
  "language_info": {
   "codemirror_mode": {
    "name": "ipython",
    "version": 3
   },
   "file_extension": ".py",
   "mimetype": "text/x-python",
   "name": "python",
   "nbconvert_exporter": "python",
   "pygments_lexer": "ipython3",
   "version": "3.8.5"
  }
 },
 "nbformat": 4,
 "nbformat_minor": 4
}
