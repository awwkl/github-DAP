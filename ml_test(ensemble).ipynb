{
 "cells": [
  {
   "cell_type": "code",
   "execution_count": 1,
   "metadata": {},
   "outputs": [],
   "source": [
    "import numpy as np\n",
    "import pandas as pd\n",
    "from sklearn.preprocessing import MinMaxScaler"
   ]
  },
  {
   "cell_type": "code",
   "execution_count": 2,
   "metadata": {},
   "outputs": [
    {
     "name": "stdout",
     "output_type": "stream",
     "text": [
      "[[0.00000000e+00 2.74062706e-05 2.74062706e-05 ... 0.00000000e+00\n",
      "  1.15500116e-03 1.15526802e-03]\n",
      " [8.67435453e-04 0.00000000e+00 0.00000000e+00 ... 8.67435453e-04\n",
      "  4.15800416e-03 4.15896488e-03]\n",
      " [1.53076845e-04 3.28875247e-04 2.74062706e-05 ... 1.53076845e-04\n",
      "  9.24000924e-04 9.24214418e-04]\n",
      " ...\n",
      " [4.08204919e-04 0.00000000e+00 0.00000000e+00 ... 4.08204919e-04\n",
      "  4.62000462e-04 4.62107209e-04]\n",
      " [0.00000000e+00 0.00000000e+00 0.00000000e+00 ... 0.00000000e+00\n",
      "  0.00000000e+00 0.00000000e+00]\n",
      " [1.02051230e-04 2.74062706e-05 2.74062706e-05 ... 1.02051230e-04\n",
      "  0.00000000e+00 0.00000000e+00]]\n"
     ]
    },
    {
     "data": {
      "text/plain": [
       "((2940, 140), (2940,))"
      ]
     },
     "execution_count": 2,
     "metadata": {},
     "output_type": "execute_result"
    }
   ],
   "source": [
    "df_train = pd.read_csv('./processed_data/df_train.csv')\n",
    "X_train = df_train.drop('label', axis=1)\n",
    "y_train = df_train['label']\n",
    "\n",
    "# fit scaler on training data\n",
    "norm = MinMaxScaler().fit(X_train)\n",
    "\n",
    "# transform training data\n",
    "X_train_norm = norm.transform(X_train)\n",
    "print(X_train_norm)\n",
    "X_train_norm.shape, y_train.shape"
   ]
  },
  {
   "cell_type": "code",
   "execution_count": 3,
   "metadata": {},
   "outputs": [
    {
     "name": "stdout",
     "output_type": "stream",
     "text": [
      "[[4.59230534e-04 2.74062706e-05 0.00000000e+00 ... 4.59230534e-04\n",
      "  4.62000462e-04 4.62107209e-04]\n",
      " [0.00000000e+00 0.00000000e+00 2.74062706e-05 ... 0.00000000e+00\n",
      "  2.31000231e-04 2.31053604e-04]\n",
      " [2.04102459e-04 2.46656435e-04 1.91843894e-04 ... 2.04102459e-04\n",
      "  4.62000462e-04 4.62107209e-04]\n",
      " ...\n",
      " [1.53076845e-04 6.02937952e-04 4.93312870e-04 ... 1.53076845e-04\n",
      "  4.85100485e-03 4.85212569e-03]\n",
      " [1.02051230e-04 2.74062706e-05 2.74062706e-05 ... 1.02051230e-04\n",
      "  9.24000924e-04 9.24214418e-04]\n",
      " [1.12256353e-03 3.56281517e-04 1.64437623e-04 ... 1.12256353e-03\n",
      "  2.31000231e-03 2.31053604e-03]]\n"
     ]
    },
    {
     "data": {
      "text/plain": [
       "((979, 140), (979,))"
      ]
     },
     "execution_count": 3,
     "metadata": {},
     "output_type": "execute_result"
    }
   ],
   "source": [
    "df_valid = pd.read_csv('./processed_data/df_valid.csv')\n",
    "X_valid = df_valid.drop('label', axis=1)\n",
    "y_valid = df_valid['label']\n",
    "\n",
    "# transform validation data\n",
    "X_valid_norm = norm.transform(X_valid)\n",
    "\n",
    "print(X_valid_norm)\n",
    "X_valid_norm.shape, y_valid.shape"
   ]
  },
  {
   "cell_type": "code",
   "execution_count": 4,
   "metadata": {},
   "outputs": [],
   "source": [
    "from sklearn.ensemble import RandomForestClassifier\n",
    "from sklearn.svm import SVC\n",
    "from sklearn.linear_model import LogisticRegression\n",
    "from sklearn.ensemble import VotingClassifier\n",
    "\n",
    "rnd_clf = RandomForestClassifier(n_estimators=1000, max_leaf_nodes=50, n_jobs=-1)\n",
    "svm_clf = SVC(C=10000)\n",
    "log_clf = LogisticRegression(C=10000, max_iter=10000)\n",
    "\n",
    "voting_clf = VotingClassifier(\n",
    "    estimators=[('rf', rnd_clf), ('svm', svm_clf), ('log', log_clf)],\n",
    "    voting='hard')"
   ]
  },
  {
   "cell_type": "code",
   "execution_count": 5,
   "metadata": {},
   "outputs": [
    {
     "name": "stdout",
     "output_type": "stream",
     "text": [
      "RandomForestClassifier 0.95097037793667\n",
      "SVC 0.9264555669050051\n",
      "LogisticRegression 0.9152196118488254\n",
      "VotingClassifier 0.9560776302349336\n"
     ]
    }
   ],
   "source": [
    "# validating\n",
    "from sklearn.metrics import accuracy_score\n",
    "\n",
    "for clf in (rnd_clf, svm_clf, log_clf, voting_clf):\n",
    "    clf.fit(X_train_norm, y_train)\n",
    "    y_pred = clf.predict(X_valid_norm)\n",
    "    print(clf.__class__.__name__, accuracy_score(y_valid, y_pred))"
   ]
  },
  {
   "cell_type": "code",
   "execution_count": 6,
   "metadata": {},
   "outputs": [
    {
     "name": "stdout",
     "output_type": "stream",
     "text": [
      "[[7.09256047e-03 8.77000658e-04 1.91843894e-04 ... 7.09256047e-03\n",
      "  2.54100254e-03 2.54158965e-03]\n",
      " [0.00000000e+00 0.00000000e+00 0.00000000e+00 ... 0.00000000e+00\n",
      "  0.00000000e+00 0.00000000e+00]\n",
      " [3.06153689e-03 5.75531682e-04 1.91843894e-04 ... 3.06153689e-03\n",
      "  1.89420189e-02 1.89463956e-02]\n",
      " ...\n",
      " [1.02051230e-04 5.20719141e-04 1.09625082e-04 ... 1.02051230e-04\n",
      "  4.38900439e-03 4.39001848e-03]\n",
      " [2.04102459e-04 2.74062706e-05 2.74062706e-05 ... 2.04102459e-04\n",
      "  6.93000693e-04 6.93160813e-04]\n",
      " [5.10256149e-05 0.00000000e+00 0.00000000e+00 ... 5.10256149e-05\n",
      "  0.00000000e+00 0.00000000e+00]]\n"
     ]
    },
    {
     "data": {
      "text/plain": [
       "((980, 140), (980,))"
      ]
     },
     "execution_count": 6,
     "metadata": {},
     "output_type": "execute_result"
    }
   ],
   "source": [
    "df_test = pd.read_csv('./processed_data/df_test.csv')\n",
    "X_test = df_test.drop('label', axis=1)\n",
    "y_test = df_test['label']\n",
    "\n",
    "# transform testing data\n",
    "X_test_norm = norm.transform(X_test)\n",
    "\n",
    "print(X_test_norm)\n",
    "X_test_norm.shape, y_test.shape"
   ]
  },
  {
   "cell_type": "code",
   "execution_count": 7,
   "metadata": {},
   "outputs": [
    {
     "name": "stdout",
     "output_type": "stream",
     "text": [
      "RandomForestClassifier 0.9540816326530612\n",
      "SVC 0.9275510204081633\n",
      "LogisticRegression 0.9275510204081633\n",
      "VotingClassifier 0.9612244897959183\n"
     ]
    }
   ],
   "source": [
    "# testing\n",
    "for clf in (rnd_clf, svm_clf, log_clf, voting_clf):\n",
    "    clf.fit(X_train_norm, y_train)\n",
    "    y_pred = clf.predict(X_test_norm)\n",
    "    print(clf.__class__.__name__, accuracy_score(y_test, y_pred))"
   ]
  },
  {
   "cell_type": "code",
   "execution_count": 8,
   "metadata": {},
   "outputs": [
    {
     "name": "stdout",
     "output_type": "stream",
     "text": [
      "[[150   6   2   0   0   0   0]\n",
      " [ 14 115   0   1   0   0   1]\n",
      " [  0   0 142   0   0   0   0]\n",
      " [  2   1   0 136   0   0   0]\n",
      " [  0   0   0   0 122   0   0]\n",
      " [  0   0   7   1   0 139   0]\n",
      " [  1   0   2   0   0   0 138]]\n"
     ]
    }
   ],
   "source": [
    "# visualisation of results\n",
    "from sklearn.metrics import confusion_matrix, ConfusionMatrixDisplay\n",
    "\n",
    "y_pred = voting_clf.predict(X_test_norm)\n",
    "confusion_matrix = confusion_matrix(y_test, y_pred)\n",
    "print(confusion_matrix)"
   ]
  },
  {
   "cell_type": "code",
   "execution_count": 9,
   "metadata": {},
   "outputs": [
    {
     "data": {
      "text/plain": [
       "<sklearn.metrics._plot.confusion_matrix.ConfusionMatrixDisplay at 0x7fabcb3b5220>"
      ]
     },
     "execution_count": 9,
     "metadata": {},
     "output_type": "execute_result"
    },
    {
     "data": {
      "image/png": "[encoded data removed]",
      "text/plain": [
       "<Figure size 432x288 with 2 Axes>"
      ]
     },
     "metadata": {
      "needs_background": "light"
     },
     "output_type": "display_data"
    }
   ],
   "source": [
    "display = ConfusionMatrixDisplay(confusion_matrix, display_labels=[i for i in set(y_pred)])\n",
    "display.plot()"
   ]
  }
 ],
 "metadata": {
  "kernelspec": {
   "display_name": "Python 3",
   "language": "python",
   "name": "python3"
  },
  "language_info": {
   "codemirror_mode": {
    "name": "ipython",
    "version": 3
   },
   "file_extension": ".py",
   "mimetype": "text/x-python",
   "name": "python",
   "nbconvert_exporter": "python",
   "pygments_lexer": "ipython3",
   "version": "3.8.5"
  }
 },
 "nbformat": 4,
 "nbformat_minor": 4
}
